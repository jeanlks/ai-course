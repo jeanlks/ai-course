{
 "cells": [
  {
   "cell_type": "code",
   "execution_count": 1,
   "id": "779be6ab-927f-40b0-94c6-32fba3faa448",
   "metadata": {},
   "outputs": [],
   "source": [
    "from nltk import PorterStemmer"
   ]
  },
  {
   "cell_type": "code",
   "execution_count": 2,
   "id": "64ccdd67-9a44-40c6-9164-b51af62abb65",
   "metadata": {},
   "outputs": [],
   "source": [
    "stemming = PorterStemmer()"
   ]
  },
  {
   "cell_type": "code",
   "execution_count": 3,
   "id": "6d1eba7c-b4ab-4eaa-b318-647370e67de9",
   "metadata": {},
   "outputs": [],
   "source": [
    "words = ['eating', 'playing', 'writing', 'writes', 'plays', 'eats']"
   ]
  },
  {
   "cell_type": "code",
   "execution_count": 7,
   "id": "ae7fc6d7-409e-475a-a064-54324d83fe0a",
   "metadata": {},
   "outputs": [
    {
     "name": "stdout",
     "output_type": "stream",
     "text": [
      "eating--eat\n",
      "playing--play\n",
      "writing--write\n",
      "writes--write\n",
      "plays--play\n",
      "eats--eat\n"
     ]
    }
   ],
   "source": [
    "for word in words:\n",
    "    print(word+\"--\"+stemming.stem(word))"
   ]
  },
  {
   "cell_type": "code",
   "execution_count": null,
   "id": "9c5e037c-a463-4351-9ea0-4ef79cd00879",
   "metadata": {},
   "outputs": [],
   "source": []
  }
 ],
 "metadata": {
  "kernelspec": {
   "display_name": "Python 3 (ipykernel)",
   "language": "python",
   "name": "python3"
  },
  "language_info": {
   "codemirror_mode": {
    "name": "ipython",
    "version": 3
   },
   "file_extension": ".py",
   "mimetype": "text/x-python",
   "name": "python",
   "nbconvert_exporter": "python",
   "pygments_lexer": "ipython3",
   "version": "3.10.12"
  }
 },
 "nbformat": 4,
 "nbformat_minor": 5
}
